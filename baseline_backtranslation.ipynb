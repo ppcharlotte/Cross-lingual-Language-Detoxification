{
 "cells": [
  {
   "cell_type": "code",
   "execution_count": 2,
   "id": "4ae7b2f9",
   "metadata": {},
   "outputs": [
    {
     "name": "stderr",
     "output_type": "stream",
     "text": [
      "/home/ucloud/.local/lib/python3.12/site-packages/tqdm/auto.py:21: TqdmWarning: IProgress not found. Please update jupyter and ipywidgets. See https://ipywidgets.readthedocs.io/en/stable/user_install.html\n",
      "  from .autonotebook import tqdm as notebook_tqdm\n",
      "/home/ucloud/.local/lib/python3.12/site-packages/transformers/utils/generic.py:441: FutureWarning: `torch.utils._pytree._register_pytree_node` is deprecated. Please use `torch.utils._pytree.register_pytree_node` instead.\n",
      "  _torch_pytree._register_pytree_node(\n",
      "/home/ucloud/.local/lib/python3.12/site-packages/transformers/utils/generic.py:309: FutureWarning: `torch.utils._pytree._register_pytree_node` is deprecated. Please use `torch.utils._pytree.register_pytree_node` instead.\n",
      "  _torch_pytree._register_pytree_node(\n",
      "/home/ucloud/.local/lib/python3.12/site-packages/transformers/utils/generic.py:309: FutureWarning: `torch.utils._pytree._register_pytree_node` is deprecated. Please use `torch.utils._pytree.register_pytree_node` instead.\n",
      "  _torch_pytree._register_pytree_node(\n"
     ]
    }
   ],
   "source": [
    "from transformers import AutoTokenizer, AutoModelForSeq2SeqLM, BartTokenizerFast, BartForConditionalGeneration\n",
    "import torch\n",
    "import pandas as pd\n",
    "from tqdm import tqdm\n",
    "from datasets import load_dataset"
   ]
  },
  {
   "cell_type": "code",
   "execution_count": 3,
   "id": "400e81f5",
   "metadata": {},
   "outputs": [
    {
     "name": "stderr",
     "output_type": "stream",
     "text": [
      "/home/ucloud/.local/lib/python3.12/site-packages/huggingface_hub/file_download.py:896: FutureWarning: `resume_download` is deprecated and will be removed in version 1.0.0. Downloads always resume when possible. If you want to force a new download, use `force_download=True`.\n",
      "  warnings.warn(\n",
      "Loading checkpoint shards: 100%|██████████| 3/3 [00:05<00:00,  1.82s/it]\n",
      "Translating to English: 100%|██████████| 50/50 [00:45<00:00,  1.11it/s]\n",
      "Detoxifying English:   0%|          | 0/50 [00:00<?, ?it/s]/home/ucloud/.local/lib/python3.12/site-packages/transformers/generation/utils.py:1355: UserWarning: Using the model-agnostic default `max_length` (=20) to control the generation length. We recommend setting `max_new_tokens` to control the maximum length of the generation.\n",
      "  warnings.warn(\n",
      "Detoxifying English: 100%|██████████| 50/50 [00:06<00:00,  7.49it/s]\n",
      "Backtranslating to Chinese: 100%|██████████| 50/50 [00:13<00:00,  3.71it/s]"
     ]
    },
    {
     "name": "stdout",
     "output_type": "stream",
     "text": [
      "Done. Saved to backtranslation_result.tsv\n"
     ]
    },
    {
     "name": "stderr",
     "output_type": "stream",
     "text": [
      "\n"
     ]
    }
   ],
   "source": [
    "\n",
    "device = torch.device(\"cuda\" if torch.cuda.is_available() else \"cpu\")\n",
    "\n",
    "\n",
    "nllb_model_name = \"facebook/nllb-200-3.3B\"\n",
    "nllb_tokenizer = AutoTokenizer.from_pretrained(nllb_model_name)\n",
    "nllb_model = AutoModelForSeq2SeqLM.from_pretrained(nllb_model_name).to(device)\n",
    "\n",
    "\n",
    "bart_model_name = \"s-nlp/bart-base-detox\"\n",
    "bart_tokenizer = BartTokenizerFast.from_pretrained(bart_model_name)\n",
    "bart_model = BartForConditionalGeneration.from_pretrained(bart_model_name).to(device)\n",
    "\n",
    "\n",
    "lang_id_mapping = {\n",
    "    \"zh\": \"zho_Hans\",\n",
    "    \"en\": \"eng_Latn\"\n",
    "}\n",
    "\n",
    "\n",
    "def translate_batch(texts, src_lang, tgt_lang):\n",
    "    nllb_tokenizer.src_lang = lang_id_mapping[src_lang]\n",
    "    inputs = nllb_tokenizer(texts, return_tensors=\"pt\", padding=True, truncation=True, max_length=128).to(device)\n",
    "    tgt_lang_id = nllb_tokenizer.lang_code_to_id[lang_id_mapping[tgt_lang]]\n",
    "    outputs = nllb_model.generate(**inputs, forced_bos_token_id=tgt_lang_id)\n",
    "    return nllb_tokenizer.batch_decode(outputs, skip_special_tokens=True)\n",
    "\n",
    "\n",
    "def detoxify_batch(texts):\n",
    "    inputs = bart_tokenizer(texts, return_tensors=\"pt\", padding=True, truncation=True, max_length=128).to(device)\n",
    "    outputs = bart_model.generate(**inputs)\n",
    "    return bart_tokenizer.batch_decode(outputs, skip_special_tokens=True)\n",
    "\n",
    "\n",
    "ds = load_dataset(\"textdetox/multilingual_paradetox\", split=\"zh\")\n",
    "zh_toxic = ds[\"toxic_sentence\"]\n",
    "langs = [\"zh\"] * len(zh_toxic)\n",
    "\n",
    "\n",
    "en_translated = []\n",
    "batch_size = 8\n",
    "for i in tqdm(range(0, len(zh_toxic), batch_size), desc=\"Translating to English\"):\n",
    "    batch = zh_toxic[i:i+batch_size]\n",
    "    en_translated.extend(translate_batch(batch, src_lang=\"zh\", tgt_lang=\"en\"))\n",
    "\n",
    "\n",
    "en_detox = []\n",
    "for i in tqdm(range(0, len(en_translated), batch_size), desc=\"Detoxifying English\"):\n",
    "    batch = en_translated[i:i+batch_size]\n",
    "    en_detox.extend(detoxify_batch(batch))\n",
    "\n",
    "\n",
    "zh_detox = []\n",
    "for i in tqdm(range(0, len(en_detox), batch_size), desc=\"Backtranslating to Chinese\"):\n",
    "    batch = en_detox[i:i+batch_size]\n",
    "    zh_detox.extend(translate_batch(batch, src_lang=\"en\", tgt_lang=\"zh\"))\n",
    "\n",
    "\n",
    "result_df = pd.DataFrame({\n",
    "    \"toxic_sentence\": zh_toxic,\n",
    "    \"neutral_sentence\": zh_detox,\n",
    "    \"lang\": langs\n",
    "})\n",
    "\n",
    "\n",
    "result_df.to_csv(\"backtranslation_result.tsv\", sep=\"\\t\", index=False)\n",
    "print(\"Done. Saved to backtranslation_result.tsv\")"
   ]
  },
  {
   "cell_type": "code",
   "execution_count": null,
   "id": "e6c64f40",
   "metadata": {},
   "outputs": [],
   "source": []
  }
 ],
 "metadata": {
  "kernelspec": {
   "display_name": "Python 3",
   "language": "python",
   "name": "python3"
  },
  "language_info": {
   "codemirror_mode": {
    "name": "ipython",
    "version": 3
   },
   "file_extension": ".py",
   "mimetype": "text/x-python",
   "name": "python",
   "nbconvert_exporter": "python",
   "pygments_lexer": "ipython3",
   "version": "3.12.3"
  }
 },
 "nbformat": 4,
 "nbformat_minor": 5
}
