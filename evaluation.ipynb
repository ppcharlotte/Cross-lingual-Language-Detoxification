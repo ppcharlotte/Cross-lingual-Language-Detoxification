{
 "cells": [
  {
   "cell_type": "code",
   "execution_count": null,
   "id": "bebc976e",
   "metadata": {},
   "outputs": [],
   "source": [
    "!pip install sentence-transformers==2.6.1 \\\n",
    "            transformers==4.36.2 \\\n",
    "            unbabel-comet==2.2.1 \\\n",
    "            pandas==2.2.2 \\\n",
    "            pydantic==2.9.2 \\\n",
    "            pydantic-settings==2.6.1 \\\n",
    "            pydantic-core==2.23.4 \\\n",
    "            scipy==1.14.1 \\\n",
    "            huggingface_hub==0.30.2 \\\n",
    "            numpy==1.26.4 \\\n",
    "            protobuf==4.25.6 \\\n",
    "            tqdm==4.66.5"
   ]
  },
  {
   "cell_type": "code",
   "execution_count": null,
   "id": "d3301fd4",
   "metadata": {},
   "outputs": [],
   "source": [
    "!git clone https://github.com/pan-webis-de/pan-code.git"
   ]
  },
  {
   "cell_type": "code",
   "execution_count": 12,
   "id": "d61fd8bc",
   "metadata": {},
   "outputs": [
    {
     "name": "stdout",
     "output_type": "stream",
     "text": [
      "/work/LP2/pan-code/clef25/text-detoxification/evaluation\n"
     ]
    }
   ],
   "source": [
    "%cd /work/LP2/pan-code/clef25/text-detoxification/evaluation"
   ]
  },
  {
   "cell_type": "code",
   "execution_count": null,
   "id": "7175c287",
   "metadata": {},
   "outputs": [],
   "source": [
    "!python evaluate.py \\\n",
    "     --submission submission_zh.tsv \\ \n",
    "     --reference reference_zh.tsv \\\n",
    "     --device cuda"
   ]
  }
 ],
 "metadata": {
  "kernelspec": {
   "display_name": "Python 3",
   "language": "python",
   "name": "python3"
  },
  "language_info": {
   "codemirror_mode": {
    "name": "ipython",
    "version": 3
   },
   "file_extension": ".py",
   "mimetype": "text/x-python",
   "name": "python",
   "nbconvert_exporter": "python",
   "pygments_lexer": "ipython3",
   "version": "3.12.3"
  }
 },
 "nbformat": 4,
 "nbformat_minor": 5
}
