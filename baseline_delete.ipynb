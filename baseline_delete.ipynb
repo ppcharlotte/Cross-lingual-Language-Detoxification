{
 "cells": [
  {
   "cell_type": "code",
   "execution_count": 10,
   "id": "472b5a54",
   "metadata": {},
   "outputs": [
    {
     "name": "stderr",
     "output_type": "stream",
     "text": [
      "Detoxifying via deletion: 100%|██████████| 400/400 [00:00<00:00, 193620.50it/s]"
     ]
    },
    {
     "name": "stdout",
     "output_type": "stream",
     "text": [
      "Delete baseline detox completed.\n"
     ]
    },
    {
     "name": "stderr",
     "output_type": "stream",
     "text": [
      "\n"
     ]
    }
   ],
   "source": [
    "from datasets import load_dataset\n",
    "import jieba\n",
    "import pandas as pd\n",
    "import re\n",
    "from tqdm import tqdm\n",
    "import spacy\n",
    "\n",
    "# 加载毒性词典\n",
    "lexicon = load_dataset(\"textdetox/multilingual_toxic_lexicon\", split=\"es\")\n",
    "toxic_words = set(lexicon[\"text\"])\n",
    "\n",
    "\n",
    "space_re = re.compile(r\"\\s+\")\n",
    "\n",
    "#zh\n",
    "#def delete_detox(text: str) -> str:\n",
    " #   words = jieba.cut(text)\n",
    "  #  return \"\".join([w for w in words if w not in toxic_words])\n",
    "\n",
    "#nlp = spacy.load(\"es_core_news_sm\")\n",
    "\n",
    "# \n",
    "#def delete_detox(text: str) -> str:\n",
    " #   doc = nlp(text)\n",
    "  #  clean_tokens = [token.text for token in doc if token.lemma_.lower() not in toxic_words]\n",
    "   # return spacy.tokens.Doc(doc.vocab, words=clean_tokens).text\n",
    "\n",
    "\n",
    "def delete_detox(text: str) -> str:\n",
    "    words = space_re.split(text)\n",
    "    return \" \".join([w for w in words if w.lower().strip() not in toxic_words])\n",
    "\n",
    "\n",
    "# inital data\n",
    "es_ds = load_dataset(\"textdetox/multilingual_paradetox\", split=\"es\")\n",
    "es_toxic = es_ds[\"toxic_sentence\"]\n",
    "langs = [\"es\"] * len(es_toxic)\n",
    "\n",
    "# detoxification\n",
    "es_detox = []\n",
    "for sent in tqdm(es_toxic, desc=\"Detoxifying via deletion\"):\n",
    "    es_detox.append(delete_detox(sent))\n",
    "\n",
    "\n",
    "result_df = pd.DataFrame({\n",
    "    \"toxic_sentence\": es_toxic,\n",
    "    \"neutral_sentence\": es_detox,\n",
    "    \"lang\": langs\n",
    "})\n",
    "\n",
    "# 保存\n",
    "result_df.to_csv(\"baseline_delete_output_de.tsv\", sep=\"\\t\", index=False)\n",
    "print(\"Delete baseline detox completed.\")"
   ]
  },
  {
   "cell_type": "code",
   "execution_count": null,
   "id": "bba3a594",
   "metadata": {},
   "outputs": [],
   "source": []
  }
 ],
 "metadata": {
  "kernelspec": {
   "display_name": "Python 3",
   "language": "python",
   "name": "python3"
  },
  "language_info": {
   "codemirror_mode": {
    "name": "ipython",
    "version": 3
   },
   "file_extension": ".py",
   "mimetype": "text/x-python",
   "name": "python",
   "nbconvert_exporter": "python",
   "pygments_lexer": "ipython3",
   "version": "3.12.3"
  }
 },
 "nbformat": 4,
 "nbformat_minor": 5
}
